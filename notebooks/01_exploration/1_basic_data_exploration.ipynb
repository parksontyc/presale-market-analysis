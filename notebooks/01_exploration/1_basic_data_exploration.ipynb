{
 "cells": [
  {
   "cell_type": "markdown",
   "id": "10a717f6",
   "metadata": {},
   "source": [
    "# 1_basic_data_exploration.ipynb\n",
    "\n",
    "目標：\n",
    "✅ 載入並檢視原始資料結構\n",
    "✅ 驗證PRD文件中的資料描述\n",
    "✅ 識別資料品質問題\n",
    "\n",
    "內容大綱：\n",
    "1. 環境設定與套件載入\n",
    "2. 資料載入與基本資訊檢視\n",
    "3. 欄位格式分析與資料型別檢查\n",
    "4. 缺失值與異常值初步分析\n",
    "5. 時間範圍與地理分布驗證\n",
    "6. 資料匹配率分析"
   ]
  },
  {
   "cell_type": "markdown",
   "id": "4e42193b",
   "metadata": {},
   "source": [
    " ## 1. 環境設定與套件載入"
   ]
  },
  {
   "cell_type": "code",
   "execution_count": null,
   "id": "f6424092",
   "metadata": {},
   "outputs": [],
   "source": [
    "import os\n",
    "import pandas as pd\n",
    "import numpy as np\n",
    "import matplotlib.pyplot as plt\n",
    "import seaborn as sns\n",
    "import plotly.express as px\n",
    "import plotly.graph_objects as go\n",
    "from datetime import datetime, timedelta\n",
    "import warnings\n",
    "warnings.filterwarnings('ignore')"
   ]
  },
  {
   "cell_type": "code",
   "execution_count": null,
   "id": "b0b8e4ee",
   "metadata": {},
   "outputs": [],
   "source": [
    "import sys\n",
    "from pathlib import Path\n",
    "project_root = Path.cwd().parent.parent  # 找出根目錄：Path.cwd()找出現在所在目錄(/run).parent(上一層是notebook).parent(再上層一層business_district_discovery)\n",
    "print(project_root)\n",
    "sys.path.append(str(project_root))"
   ]
  },
  {
   "cell_type": "code",
   "execution_count": null,
   "id": "6d4d9c6a",
   "metadata": {},
   "outputs": [],
   "source": [
    "from matplotlib.font_manager import fontManager\n",
    "import matplotlib as mlp\n",
    "font_path = Path(project_root) / \"ChineseFont.ttf\"\n",
    "fontManager.addfont(str(font_path))\n",
    "mlp.rc('font', family=\"ChineseFont\")\n",
    "print(font_path)"
   ]
  },
  {
   "cell_type": "code",
   "execution_count": null,
   "id": "981cbbd8",
   "metadata": {},
   "outputs": [],
   "source": [
    "# 設定顯示選項\n",
    "pd.set_option('display.max_columns', None)\n",
    "pd.set_option('display.max_rows', 100)\n",
    "pd.set_option('display.width', None)\n",
    "pd.set_option('display.max_colwidth', 50)\n",
    "\n",
    "# # 設定中文字型\n",
    "# plt.rcParams['font.sans-serif'] = ['Microsoft JhengHei', 'Arial Unicode MS', 'sans-serif']\n",
    "# plt.rcParams['axes.unicode_minus'] = False\n",
    "\n",
    "# 設定圖表樣式\n",
    "sns.set_style(\"whitegrid\")\n",
    "plt.style.use('default')\n",
    "\n",
    "print(\"✅ 環境設定完成\")\n",
    "print(f\"📅 分析時間: {datetime.now().strftime('%Y-%m-%d %H:%M:%S')}\")"
   ]
  },
  {
   "cell_type": "code",
   "execution_count": null,
   "id": "745742de",
   "metadata": {},
   "outputs": [],
   "source": [
    "# 預售屋備查 / 實價預售交易資料位置\n",
    "community_dir = r\"C:\\pylabs\\presale_market_analysis/data/raw\"\n",
    "community_fn = \"community_11006_11406.csv\"\n",
    "community_input_path = os.path.join(community_dir,  community_fn)\n",
    "\n",
    "transaction_dir = r\"C:\\pylabs\\presale_market_analysis/data/raw\"\n",
    "tranaction_fn = \"transaction_11006_11406.csv\"\n",
    "transaction_input_path = os.path.join(transaction_dir, tranaction_fn)"
   ]
  },
  {
   "cell_type": "markdown",
   "id": "a362df57",
   "metadata": {},
   "source": [
    "## 2. 資料載入與基本資訊檢視"
   ]
  },
  {
   "cell_type": "code",
   "execution_count": null,
   "id": "57153330",
   "metadata": {},
   "outputs": [],
   "source": [
    "print(\"🔄 載入資料檔案...\")\n",
    "try:\n",
    "    # 載入預售社區資料\n",
    "    community_df = pd.read_csv(community_input_path, encoding='utf-8')\n",
    "    print(f\"✅ 預售社區資料載入成功: {community_df.shape}\")\n",
    "    \n",
    "    # 載入逐筆交易資料  \n",
    "    transaction_df = pd.read_csv(transaction_input_path, encoding='utf-8')\n",
    "    print(f\"✅ 逐筆交易資料載入成功: {transaction_df.shape}\")\n",
    "    \n",
    "except FileNotFoundError as e:\n",
    "    print(f\"❌ 檔案載入失敗: {e}\")\n",
    "    print(\"📝 請確認檔案是否放置在 ../data/raw/ 資料夾中\")\n",
    "except Exception as e:\n",
    "    print(f\"❌ 載入過程發生錯誤: {e}\")"
   ]
  },
  {
   "cell_type": "code",
   "execution_count": null,
   "id": "e2720cd5",
   "metadata": {},
   "outputs": [],
   "source": [
    "# 資料基本資訊檢視\n",
    "print(\"=\" * 80)\n",
    "print(\"📊 資料基本資訊總覽\")\n",
    "print(\"=\" * 80)\n",
    "\n",
    "print(\"\\n🏘️ 預售社區資料 (lvr_community_data_test.csv)\")\n",
    "print(f\"   資料形狀: {community_df.shape}\")\n",
    "print(f\"   記憶體使用: {community_df.memory_usage(deep=True).sum() / 1024**2:.2f} MB\")\n",
    "\n",
    "print(\"\\n🏠 逐筆交易資料 (lvr_presale_test.csv)\")  \n",
    "print(f\"   資料形狀: {transaction_df.shape}\")\n",
    "print(f\"   記憶體使用: {transaction_df.memory_usage(deep=True).sum() / 1024**2:.2f} MB\")"
   ]
  },
  {
   "cell_type": "code",
   "execution_count": null,
   "id": "cf07f7f4",
   "metadata": {},
   "outputs": [],
   "source": [
    "# 檢視欄位資訊\n",
    "print(\"\\n📋 預售社區資料欄位資訊:\")\n",
    "print(\"-\" * 50)\n",
    "community_info = pd.DataFrame({\n",
    "    '欄位名稱': community_df.columns,\n",
    "    '資料型別': community_df.dtypes,\n",
    "    '非空值數量': community_df.count(),\n",
    "    '缺失值數量': community_df.isnull().sum(),\n",
    "    '缺失率(%)': (community_df.isnull().sum() / len(community_df) * 100).round(2)\n",
    "})\n",
    "community_info"
   ]
  },
  {
   "cell_type": "code",
   "execution_count": null,
   "id": "090f2844",
   "metadata": {},
   "outputs": [],
   "source": [
    "# %%\n",
    "print(\"\\n📋 逐筆交易資料欄位資訊:\")\n",
    "print(\"-\" * 50)\n",
    "transaction_info = pd.DataFrame({\n",
    "    '欄位名稱': transaction_df.columns,\n",
    "    '資料型別': transaction_df.dtypes,\n",
    "    '非空值數量': transaction_df.count(),\n",
    "    '缺失值數量': transaction_df.isnull().sum(),\n",
    "    '缺失率(%)': (transaction_df.isnull().sum() / len(transaction_df) * 100).round(2)\n",
    "})\n",
    "transaction_info"
   ]
  },
  {
   "cell_type": "markdown",
   "id": "30734cd2",
   "metadata": {},
   "source": [
    "## 3. 資料樣本檢視與格式分析"
   ]
  },
  {
   "cell_type": "code",
   "execution_count": null,
   "id": "5c4f6743",
   "metadata": {},
   "outputs": [],
   "source": [
    "# 檢視預售社區資料樣本\n",
    "print(\"🔍 預售社區資料前5筆樣本:\")\n",
    "print(\"=\" * 80)\n",
    "display(community_df.head())\n",
    "\n",
    "# %%\n",
    "print(\"\\n🔍 逐筆交易資料前5筆樣本:\")\n",
    "print(\"=\" * 80)\n",
    "display(transaction_df.head())"
   ]
  },
  {
   "cell_type": "code",
   "execution_count": null,
   "id": "009ba868",
   "metadata": {},
   "outputs": [],
   "source": [
    "# 關鍵欄位格式分析\n",
    "print(\"\\n📊 關鍵欄位格式分析\")\n",
    "print(\"=\" * 50)\n",
    "\n",
    "# 1. 檢查編號匹配欄位\n",
    "print(\"1️⃣ 資料關聯檢查:\")\n",
    "community_ids = set(community_df['編號'].dropna())\n",
    "transaction_ids = set(transaction_df['備查編號'].dropna())\n",
    "\n",
    "print(f\"   預售社區唯一編號數: {len(community_ids)}\")\n",
    "print(f\"   交易記錄唯一備查編號數: {len(transaction_ids)}\")\n",
    "print(f\"   可匹配編號數: {len(community_ids & transaction_ids)}\")\n",
    "print(f\"   匹配率: {len(community_ids & transaction_ids) / max(len(community_ids), len(transaction_ids)) * 100:.2f}%\")"
   ]
  },
  {
   "cell_type": "code",
   "execution_count": null,
   "id": "62b76cdf",
   "metadata": {},
   "outputs": [],
   "source": [
    "# 2. 檢查銷售起始時間格式\n",
    "print(\"\\n2️⃣ 銷售起始時間格式檢查:\")\n",
    "sales_start_sample = community_df['銷售起始時間'].dropna().head(10)\n",
    "for i, time_val in enumerate(sales_start_sample):\n",
    "    print(f\"   樣本{i+1}: {time_val} (類型: {type(time_val)})\")"
   ]
  },
  {
   "cell_type": "code",
   "execution_count": null,
   "id": "2123e436",
   "metadata": {},
   "outputs": [],
   "source": [
    "# 3. 檢查交易年季格式\n",
    "print(\"\\n3️⃣ 交易年季格式檢查:\")\n",
    "year_season_counts = transaction_df['交易年季'].value_counts().sort_index()\n",
    "print(f\"   交易年季數量: {len(year_season_counts)}\")\n",
    "print(f\"   年季範圍: {year_season_counts.index.min()} ~ {year_season_counts.index.max()}\")\n",
    "print(\"\\n   前10個年季分布:\")\n",
    "for ys, count in year_season_counts.head(10).items():\n",
    "    print(f\"   {ys}: {count:,}筆\")"
   ]
  },
  {
   "cell_type": "code",
   "execution_count": null,
   "id": "d2935aaa",
   "metadata": {},
   "outputs": [],
   "source": [
    "# 4. 檢查解約情形格式\n",
    "print(\"\\n4️⃣ 解約情形格式檢查:\")\n",
    "cancellation_counts = transaction_df['解約情形'].value_counts()\n",
    "print(f\"   解約情形類別數: {len(cancellation_counts)}\")\n",
    "print(f\"   空值(正常交易): {transaction_df['解約情形'].isnull().sum():,}筆\")"
   ]
  },
  {
   "cell_type": "code",
   "execution_count": null,
   "id": "0232c8b8",
   "metadata": {},
   "outputs": [],
   "source": [
    "# 檢查解約記錄樣本\n",
    "cancellation_samples = transaction_df[transaction_df['解約情形'].notna()]['解約情形'].head(10)\n",
    "print(\"\\n   解約記錄樣本:\")\n",
    "for i, cancel in enumerate(cancellation_samples):\n",
    "    print(f\"   樣本{i+1}: {cancel}\")"
   ]
  },
  {
   "cell_type": "code",
   "execution_count": null,
   "id": "813576fc",
   "metadata": {},
   "outputs": [],
   "source": [
    "# 地理分布統計\n",
    "print(\"🗺️ 地理分布分析\")\n",
    "print(\"=\" * 50)\n",
    "\n",
    "# 縣市分布 - 預售社區\n",
    "print(\"1️⃣ 預售社區縣市分布:\")\n",
    "community_city_dist = community_df['縣市'].value_counts()\n",
    "for city, count in community_city_dist.head(10).items():\n",
    "    percentage = count / len(community_df) * 100\n",
    "    print(f\"   {city}: {count:,}個建案 ({percentage:.1f}%)\")"
   ]
  },
  {
   "cell_type": "code",
   "execution_count": null,
   "id": "d88d778b",
   "metadata": {},
   "outputs": [],
   "source": [
    "# 縣市分布 - 交易記錄\n",
    "print(\"\\n2️⃣ 交易記錄縣市分布:\")\n",
    "transaction_city_dist = transaction_df['縣市'].value_counts()\n",
    "for city, count in transaction_city_dist.head(10).items():\n",
    "    percentage = count / len(transaction_df) * 100\n",
    "    print(f\"   {city}: {count:,}筆交易 ({percentage:.1f}%)\")"
   ]
  },
  {
   "cell_type": "code",
   "execution_count": null,
   "id": "3059c0da",
   "metadata": {},
   "outputs": [],
   "source": [
    "# 行政區分布統計 (前20名)\n",
    "print(\"\\n3️⃣ 主要行政區分布 (前20名):\")\n",
    "print(\"\\n預售社區:\")\n",
    "community_district = community_df.groupby(['縣市', '行政區']).size().sort_values(ascending=False)\n",
    "for (city, district), count in community_district.head(20).items():\n",
    "    print(f\"   {city} {district}: {count}個建案\")"
   ]
  },
  {
   "cell_type": "markdown",
   "id": "49202f09",
   "metadata": {},
   "source": [
    "## 5. 時間範圍分析"
   ]
  },
  {
   "cell_type": "code",
   "execution_count": null,
   "id": "e8d2ded5",
   "metadata": {},
   "outputs": [],
   "source": [
    "# 時間範圍分析\n",
    "print(\"📅 時間範圍分析\")\n",
    "print(\"=\" * 50)\n",
    "\n",
    "# 1. 銷售起始年季分布\n",
    "print(\"1️⃣ 銷售起始年季分布:\")\n",
    "sales_start_season = community_df['銷售起始年季'].value_counts().sort_index()\n",
    "print(f\"   起始年季範圍: {sales_start_season.index.min()} ~ {sales_start_season.index.max()}\")\n",
    "print(f\"   總年季數: {len(sales_start_season)}\")\n",
    "\n",
    "print(\"\\n   各年季建案數量:\")\n",
    "for season, count in sales_start_season.items():\n",
    "    print(f\"   {season}: {count}個建案\")"
   ]
  },
  {
   "cell_type": "code",
   "execution_count": null,
   "id": "d24e618b",
   "metadata": {},
   "outputs": [],
   "source": [
    "# 2. 交易年季分布\n",
    "print(\"\\n2️⃣ 交易年季分布:\")\n",
    "transaction_season = transaction_df['交易年季'].value_counts().sort_index()\n",
    "print(f\"   交易年季範圍: {transaction_season.index.min()} ~ {transaction_season.index.max()}\")\n",
    "print(f\"   總年季數: {len(transaction_season)}\")\n",
    "\n",
    "print(\"\\n   各年季交易量:\")\n",
    "for season, count in transaction_season.items():\n",
    "    print(f\"   {season}: {count:,}筆交易\")"
   ]
  },
  {
   "cell_type": "markdown",
   "id": "4aa18513",
   "metadata": {},
   "source": [
    "## 6. 資料品質檢查"
   ]
  },
  {
   "cell_type": "code",
   "execution_count": null,
   "id": "138954fc",
   "metadata": {},
   "outputs": [],
   "source": [
    "# 關鍵欄位資料品質檢查\n",
    "print(\"🔍 資料品質檢查\")\n",
    "print(\"=\" * 50)\n",
    "\n",
    "# 1. 預售社區關鍵欄位檢查\n",
    "print(\"1️⃣ 預售社區關鍵欄位品質:\")\n",
    "community_key_fields = ['編號', '社區名稱', '縣市', '行政區', '戶數', '銷售起始年季']\n",
    "for field in community_key_fields:\n",
    "    null_count = community_df[field].isnull().sum()\n",
    "    null_rate = null_count / len(community_df) * 100\n",
    "    print(f\"   {field}: 缺失 {null_count} 筆 ({null_rate:.2f}%)\")"
   ]
  },
  {
   "cell_type": "code",
   "execution_count": null,
   "id": "d398eeec",
   "metadata": {},
   "outputs": [],
   "source": [
    "# 2. 交易記錄關鍵欄位檢查\n",
    "print(\"\\n2️⃣ 交易記錄關鍵欄位品質:\")\n",
    "transaction_key_fields = ['備查編號', '縣市', '行政區', '交易日期', '交易年季', '交易總價', '建物單價']\n",
    "for field in transaction_key_fields:\n",
    "    null_count = transaction_df[field].isnull().sum()\n",
    "    null_rate = null_count / len(transaction_df) * 100\n",
    "    print(f\"   {field}: 缺失 {null_count} 筆 ({null_rate:.2f}%)\")"
   ]
  },
  {
   "cell_type": "code",
   "execution_count": null,
   "id": "cce91f55",
   "metadata": {},
   "outputs": [],
   "source": [
    "# 3. 數值欄位異常值檢查\n",
    "print(\"\\n3️⃣ 數值欄位異常值檢查:\")\n",
    "\n",
    "# 檢查戶數\n",
    "print(\"戶數統計:\")\n",
    "households_stats = community_df['戶數'].describe()\n",
    "print(f\"   最小值: {households_stats['min']}\")\n",
    "print(f\"   最大值: {households_stats['max']}\")\n",
    "print(f\"   平均值: {households_stats['mean']:.1f}\")\n",
    "print(f\"   中位數: {households_stats['50%']:.1f}\")\n",
    "\n",
    "# 檢查交易總價\n",
    "print(\"\\n交易總價統計 (萬元):\")\n",
    "price_stats = transaction_df['交易總價'].describe()\n",
    "print(f\"   最小值: {price_stats['min']}\")\n",
    "print(f\"   最大值: {price_stats['max']}\")\n",
    "print(f\"   平均值: {price_stats['mean']:.1f}\")\n",
    "print(f\"   中位數: {price_stats['50%']:.1f}\")\n",
    "\n",
    "# 檢查建物單價\n",
    "print(\"\\n建物單價統計 (萬/坪):\")\n",
    "unit_price_stats = transaction_df['建物單價'].describe()\n",
    "print(f\"   最小值: {unit_price_stats['min']}\")\n",
    "print(f\"   最大值: {unit_price_stats['max']}\")\n",
    "print(f\"   平均值: {unit_price_stats['mean']:.1f}\")\n",
    "print(f\"   中位數: {unit_price_stats['50%']:.1f}\")"
   ]
  },
  {
   "cell_type": "markdown",
   "id": "53fa7285",
   "metadata": {},
   "source": [
    "## 7. 解約情形初步分析"
   ]
  },
  {
   "cell_type": "code",
   "execution_count": null,
   "id": "a6f706a1",
   "metadata": {},
   "outputs": [],
   "source": [
    "# 解約情形深度分析\n",
    "print(\"🚨 解約情形初步分析\")\n",
    "print(\"=\" * 50)\n",
    "\n",
    "# 計算解約統計\n",
    "total_transactions = len(transaction_df)\n",
    "normal_transactions = transaction_df['解約情形'].isnull().sum()\n",
    "cancelled_transactions = transaction_df['解約情形'].notna().sum()\n",
    "\n",
    "print(f\"總交易筆數: {total_transactions:,}\")\n",
    "print(f\"正常交易: {normal_transactions:,} 筆 ({normal_transactions/total_transactions*100:.2f}%)\")\n",
    "print(f\"解約交易: {cancelled_transactions:,} 筆 ({cancelled_transactions/total_transactions*100:.2f}%)\")"
   ]
  },
  {
   "cell_type": "code",
   "execution_count": null,
   "id": "2fc5b467",
   "metadata": {},
   "outputs": [],
   "source": [
    "# 解約模式分析\n",
    "if cancelled_transactions > 0:\n",
    "    print(\"\\n解約記錄模式分析:\")\n",
    "    cancelled_data = transaction_df[transaction_df['解約情形'].notna()]['解約情形']\n",
    "    \n",
    "    # 檢查解約日期格式模式\n",
    "    patterns = {}\n",
    "    for cancel_str in cancelled_data.head(20):\n",
    "        if '全部解約' in str(cancel_str):\n",
    "            date_part = str(cancel_str).replace('全部解約', '').strip()\n",
    "            if date_part:\n",
    "                date_len = len(date_part.split(';')[0])\n",
    "                pattern = f\"{date_len}位數字\"\n",
    "                patterns[pattern] = patterns.get(pattern, 0) + 1\n",
    "        \n",
    "    print(\"   解約日期格式模式:\")\n",
    "    for pattern, count in patterns.items():\n",
    "        print(f\"   {pattern}: {count}筆\")"
   ]
  },
  {
   "cell_type": "markdown",
   "id": "176df75a",
   "metadata": {},
   "source": [
    "# ## 8. 視覺化分析"
   ]
  },
  {
   "cell_type": "code",
   "execution_count": null,
   "id": "39c5c2b5",
   "metadata": {},
   "outputs": [],
   "source": [
    "# 建立視覺化分析\n",
    "print(\"📊 視覺化分析\")\n",
    "print(\"=\" * 50)\n",
    "\n",
    "# 1. 縣市分布圓餅圖\n",
    "fig, axes = plt.subplots(1, 2, figsize=(15, 6))\n",
    "\n",
    "# 預售社區縣市分布\n",
    "community_city_top10 = community_df['縣市'].value_counts().head(10)\n",
    "axes[0].pie(community_city_top10.values, labels=community_city_top10.index, autopct='%1.1f%%')\n",
    "axes[0].set_title('預售社區縣市分布 (前10名)', fontsize=14, fontweight='bold')\n",
    "\n",
    "# 交易記錄縣市分布\n",
    "transaction_city_top10 = transaction_df['縣市'].value_counts().head(10)\n",
    "axes[1].pie(transaction_city_top10.values, labels=transaction_city_top10.index, autopct='%1.1f%%')\n",
    "axes[1].set_title('交易記錄縣市分布 (前10名)', fontsize=14, fontweight='bold')\n",
    "\n",
    "plt.tight_layout()\n",
    "plt.show()"
   ]
  },
  {
   "cell_type": "code",
   "execution_count": null,
   "id": "bf29a6d9",
   "metadata": {},
   "outputs": [],
   "source": [
    "# 2. 時間趨勢分析\n",
    "fig, axes = plt.subplots(2, 1, figsize=(15, 10))\n",
    "\n",
    "# 銷售起始年季趨勢\n",
    "sales_trend = community_df['銷售起始年季'].value_counts().sort_index()\n",
    "axes[0].bar(range(len(sales_trend)), sales_trend.values)\n",
    "axes[0].set_xticks(range(len(sales_trend)))\n",
    "axes[0].set_xticklabels(sales_trend.index, rotation=45)\n",
    "axes[0].set_title('預售建案銷售起始年季分布', fontsize=14, fontweight='bold')\n",
    "axes[0].set_ylabel('建案數量')\n",
    "\n",
    "# 交易年季趨勢\n",
    "transaction_trend = transaction_df['交易年季'].value_counts().sort_index()\n",
    "axes[1].bar(range(len(transaction_trend)), transaction_trend.values, color='orange')\n",
    "axes[1].set_xticks(range(len(transaction_trend)))\n",
    "axes[1].set_xticklabels(transaction_trend.index, rotation=45)\n",
    "axes[1].set_title('預售屋交易年季分布', fontsize=14, fontweight='bold')\n",
    "axes[1].set_ylabel('交易筆數')\n",
    "\n",
    "plt.tight_layout()\n",
    "plt.show()"
   ]
  },
  {
   "cell_type": "code",
   "execution_count": null,
   "id": "d6fa93b0",
   "metadata": {},
   "outputs": [],
   "source": [
    "# 3. 價格分布分析\n",
    "fig, axes = plt.subplots(1, 2, figsize=(15, 6))\n",
    "\n",
    "# 交易總價分布 (移除極端值)\n",
    "price_filtered = transaction_df[(transaction_df['交易總價'] >= 500) & \n",
    "                               (transaction_df['交易總價'] <= 10000)]['交易總價']\n",
    "axes[0].hist(price_filtered, bins=50, alpha=0.7, color='skyblue')\n",
    "axes[0].set_title('交易總價分布 (500-10000萬)', fontsize=14, fontweight='bold')\n",
    "axes[0].set_xlabel('交易總價 (萬元)')\n",
    "axes[0].set_ylabel('頻次')\n",
    "\n",
    "# 建物單價分布 (移除極端值)\n",
    "unit_price_filtered = transaction_df[(transaction_df['建物單價'] >= 10) & \n",
    "                                    (transaction_df['建物單價'] <= 200)]['建物單價']\n",
    "axes[1].hist(unit_price_filtered, bins=50, alpha=0.7, color='lightcoral')\n",
    "axes[1].set_title('建物單價分布 (10-200萬/坪)', fontsize=14, fontweight='bold')\n",
    "axes[1].set_xlabel('建物單價 (萬/坪)')\n",
    "axes[1].set_ylabel('頻次')\n",
    "\n",
    "plt.tight_layout()\n",
    "plt.show()"
   ]
  },
  {
   "cell_type": "markdown",
   "id": "ca5a03e4",
   "metadata": {},
   "source": [
    "# ## 9. 資料品質總結報告"
   ]
  },
  {
   "cell_type": "code",
   "execution_count": null,
   "id": "16358a54",
   "metadata": {},
   "outputs": [],
   "source": [
    "# 生成資料品質總結報告\n",
    "print(\"📋 資料品質總結報告\")\n",
    "print(\"=\" * 80)\n",
    "\n",
    "# 基本統計\n",
    "print(\"1️⃣ 基本統計資訊:\")\n",
    "print(f\"   預售社區建案數: {len(community_df):,}\")\n",
    "print(f\"   交易記錄筆數: {len(transaction_df):,}\")\n",
    "print(f\"   資料匹配率: {len(community_ids & transaction_ids) / max(len(community_ids), len(transaction_ids)) * 100:.2f}%\")\n",
    "\n",
    "# 時間覆蓋範圍\n",
    "print(f\"\\n2️⃣ 時間覆蓋範圍:\")\n",
    "print(f\"   銷售起始年季: {sales_start_season.index.min()} ~ {sales_start_season.index.max()}\")\n",
    "print(f\"   交易年季: {transaction_season.index.min()} ~ {transaction_season.index.max()}\")\n",
    "\n",
    "# 地理覆蓋範圍\n",
    "print(f\"\\n3️⃣ 地理覆蓋範圍:\")\n",
    "print(f\"   涵蓋縣市數: {community_df['縣市'].nunique()}\")\n",
    "print(f\"   涵蓋行政區數: {community_df['行政區'].nunique()}\")\n",
    "\n",
    "# 解約情況\n",
    "print(f\"\\n4️⃣ 解約情況:\")\n",
    "print(f\"   解約率: {cancelled_transactions/total_transactions*100:.2f}%\")\n",
    "print(f\"   解約記錄數: {cancelled_transactions:,}\")\n",
    "\n",
    "# 資料品質評估\n",
    "print(f\"\\n5️⃣ 資料品質評估:\")\n",
    "community_completeness = (1 - community_df[community_key_fields].isnull().sum().sum() / \n",
    "                         (len(community_df) * len(community_key_fields))) * 100\n",
    "transaction_completeness = (1 - transaction_df[transaction_key_fields].isnull().sum().sum() / \n",
    "                           (len(transaction_df) * len(transaction_key_fields))) * 100\n",
    "\n",
    "print(f\"   預售社區資料完整度: {community_completeness:.1f}%\")\n",
    "print(f\"   交易記錄資料完整度: {transaction_completeness:.1f}%\")"
   ]
  },
  {
   "cell_type": "code",
   "execution_count": null,
   "id": "0231c680",
   "metadata": {},
   "outputs": [],
   "source": [
    "# 建立基礎統計摘要\n",
    "basic_stats = {\n",
    "    'analysis_date': datetime.now().strftime('%Y-%m-%d %H:%M:%S'),\n",
    "    'community_records': len(community_df),\n",
    "    'transaction_records': len(transaction_df),\n",
    "    'match_rate': len(community_ids & transaction_ids) / max(len(community_ids), len(transaction_ids)) * 100,\n",
    "    'cancellation_rate': cancelled_transactions/total_transactions*100,\n",
    "    'community_completeness': community_completeness,\n",
    "    'transaction_completeness': transaction_completeness,\n",
    "    'covered_cities': community_df['縣市'].nunique(),\n",
    "    'covered_districts': community_df['行政區'].nunique()\n",
    "}\n",
    "\n",
    "# 轉換為DataFrame並儲存\n",
    "stats_df = pd.DataFrame([basic_stats])\n",
    "stats_df"
   ]
  },
  {
   "cell_type": "code",
   "execution_count": null,
   "id": "3c226c76",
   "metadata": {},
   "outputs": [],
   "source": [
    "# 轉換為DataFrame並儲存\n",
    "stats_df = pd.DataFrame([basic_stats])\n",
    "\n",
    "save_dir = r\"C:\\pylabs\\presale_market_analysis/data/processed\"\n",
    "save_fn = \"01_basic_analysis_summary.csv\"\n",
    "save_path = os.path.join(save_dir,  save_fn)\n",
    "\n",
    "stats_df.to_csv(save_path, index=False, encoding='utf-8-sig')\n",
    "\n",
    "print(\"✅ 分析結果已儲存至: ../data/processed/01_basic_analysis_summary.csv\")"
   ]
  }
 ],
 "metadata": {
  "kernelspec": {
   "display_name": "area-risk-flagging",
   "language": "python",
   "name": "python3"
  },
  "language_info": {
   "codemirror_mode": {
    "name": "ipython",
    "version": 3
   },
   "file_extension": ".py",
   "mimetype": "text/x-python",
   "name": "python",
   "nbconvert_exporter": "python",
   "pygments_lexer": "ipython3",
   "version": "3.11.13"
  }
 },
 "nbformat": 4,
 "nbformat_minor": 5
}
