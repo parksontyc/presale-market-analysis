{
 "cells": [
  {
   "cell_type": "markdown",
   "id": "5c454081",
   "metadata": {},
   "source": [
    "# 2_cancellation_data_analysis.ipynb\n",
    "# 預售屋市場分析系統 - 解約資料深度分析\n",
    "\n",
    "目標：\n",
    "✅ 實作PRD中的解約資料解析邏輯\n",
    "✅ 驗證解約統計結果\n",
    "✅ 分析解約模式與趨勢\n",
    "\n",
    "內容大綱：\n",
    "1. 解約資料格式分析\n",
    "2. 解約解析函數實作與測試\n",
    "3. 解約統計與分布分析\n",
    "4. 解約時間趨勢分析\n",
    "5. 解約風險初步評估\n",
    "6. 多重解約案例處理"
   ]
  },
  {
   "cell_type": "code",
   "execution_count": 1,
   "id": "5534b73d",
   "metadata": {},
   "outputs": [],
   "source": [
    "import os\n",
    "import pandas as pd\n",
    "import numpy as np\n",
    "import matplotlib.pyplot as plt\n",
    "import seaborn as sns\n",
    "import plotly.express as px\n",
    "import plotly.graph_objects as go\n",
    "from datetime import datetime, timedelta\n",
    "import re\n",
    "import warnings\n",
    "warnings.filterwarnings('ignore')"
   ]
  },
  {
   "cell_type": "code",
   "execution_count": 2,
   "id": "41923f90",
   "metadata": {},
   "outputs": [
    {
     "name": "stdout",
     "output_type": "stream",
     "text": [
      "c:\\pylabs\\presale_market_analysis\n"
     ]
    }
   ],
   "source": [
    "import sys\n",
    "from pathlib import Path\n",
    "project_root = Path.cwd().parent.parent  # 找出根目錄：Path.cwd()找出現在所在目錄(/run).parent(上一層是notebook).parent(再上層一層business_district_discovery)\n",
    "print(project_root)\n",
    "sys.path.append(str(project_root))"
   ]
  },
  {
   "cell_type": "code",
   "execution_count": 3,
   "id": "991c61f1",
   "metadata": {},
   "outputs": [
    {
     "name": "stdout",
     "output_type": "stream",
     "text": [
      "c:\\pylabs\\presale_market_analysis\\ChineseFont.ttf\n"
     ]
    }
   ],
   "source": [
    "from matplotlib.font_manager import fontManager\n",
    "import matplotlib as mlp\n",
    "font_path = Path(project_root) / \"ChineseFont.ttf\"\n",
    "fontManager.addfont(str(font_path))\n",
    "mlp.rc('font', family=\"ChineseFont\")\n",
    "print(font_path)"
   ]
  },
  {
   "cell_type": "code",
   "execution_count": 4,
   "id": "bd49dd6e",
   "metadata": {},
   "outputs": [
    {
     "name": "stdout",
     "output_type": "stream",
     "text": [
      "✅ 環境設定完成\n",
      "📅 分析時間: 2025-07-27 10:57:13\n"
     ]
    }
   ],
   "source": [
    "# 設定顯示選項\n",
    "pd.set_option('display.max_columns', None)\n",
    "pd.set_option('display.max_rows', 100)\n",
    "pd.set_option('display.width', None)\n",
    "pd.set_option('display.max_colwidth', 50)\n",
    "\n",
    "# # 設定中文字型\n",
    "# plt.rcParams['font.sans-serif'] = ['Microsoft JhengHei', 'Arial Unicode MS', 'sans-serif']\n",
    "# plt.rcParams['axes.unicode_minus'] = False\n",
    "\n",
    "# 設定圖表樣式\n",
    "sns.set_style(\"whitegrid\")\n",
    "plt.style.use('default')\n",
    "\n",
    "print(\"✅ 環境設定完成\")\n",
    "print(f\"📅 分析時間: {datetime.now().strftime('%Y-%m-%d %H:%M:%S')}\")"
   ]
  },
  {
   "cell_type": "code",
   "execution_count": 5,
   "id": "e025667e",
   "metadata": {},
   "outputs": [],
   "source": [
    "# 預售屋備查 / 實價預售交易資料位置\n",
    "community_dir = r\"C:\\pylabs\\presale_market_analysis/data/raw\"\n",
    "community_fn = \"community_11006_11406.csv\"\n",
    "community_path = os.path.join(community_dir,  community_fn)\n",
    "\n",
    "transaction_dir = r\"C:\\pylabs\\presale_market_analysis/data/raw\"\n",
    "tranaction_fn = \"transaction_11006_11406.csv\"\n",
    "transaction_path = os.path.join(transaction_dir, tranaction_fn)\n",
    "\n",
    "stats_dir = r\"C:\\pylabs\\presale_market_analysis/data/processed\"\n",
    "stats_fn = \"01_basic_analysis_summary.csv\"\n",
    "stats_path = os.path.join(stats_dir, stats_fn)"
   ]
  },
  {
   "cell_type": "code",
   "execution_count": 7,
   "id": "0a2d684c",
   "metadata": {},
   "outputs": [
    {
     "name": "stdout",
     "output_type": "stream",
     "text": [
      "✅ 逐筆交易資料載入成功: (8452, 19)\n",
      "✅ 預售社區資料載入成功: (322100, 21)\n",
      "✅ 基礎分析結果載入成功\n"
     ]
    }
   ],
   "source": [
    "try:\n",
    "    # 載入逐筆交易資料 (主要分析對象)\n",
    "    transaction_df = pd.read_csv(community_path, encoding='utf-8')\n",
    "    print(f\"✅ 逐筆交易資料載入成功: {transaction_df.shape}\")\n",
    "    \n",
    "    # 載入預售社區資料 (輔助分析)\n",
    "    community_df = pd.read_csv(transaction_path, encoding='utf-8')\n",
    "    print(f\"✅ 預售社區資料載入成功: {community_df.shape}\")\n",
    "    \n",
    "    # 載入 Notebook 1 的基礎分析結果\n",
    "    try:\n",
    "        basic_stats = pd.read_csv(stats_path)\n",
    "        print(f\"✅ 基礎分析結果載入成功\")\n",
    "    except FileNotFoundError:\n",
    "        print(\"⚠️ 未找到基礎分析結果，將重新計算基礎統計\")\n",
    "        basic_stats = None\n",
    "        \n",
    "except FileNotFoundError as e:\n",
    "    print(f\"❌ 檔案載入失敗: {e}\")\n",
    "    print(\"📝 請確認檔案是否放置在 ../data/raw/ 資料夾中\")\n",
    "except Exception as e:\n",
    "    print(f\"❌ 載入過程發生錯誤: {e}\")\n",
    "    "
   ]
  }
 ],
 "metadata": {
  "kernelspec": {
   "display_name": "area-risk-flagging",
   "language": "python",
   "name": "python3"
  },
  "language_info": {
   "codemirror_mode": {
    "name": "ipython",
    "version": 3
   },
   "file_extension": ".py",
   "mimetype": "text/x-python",
   "name": "python",
   "nbconvert_exporter": "python",
   "pygments_lexer": "ipython3",
   "version": "3.11.13"
  }
 },
 "nbformat": 4,
 "nbformat_minor": 5
}
