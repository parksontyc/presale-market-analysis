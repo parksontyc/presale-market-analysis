{
 "cells": [
  {
   "cell_type": "markdown",
   "id": "540c9487",
   "metadata": {},
   "source": [
    "# 5_absorption_rate_calculation.ipynb\n",
    "\n",
    "目標：\n",
    "✅ 實作三種去化率計算邏輯\n",
    "✅ 驗證計算結果合理性\n",
    "✅ 建立去化率基準值\n",
    "\n",
    "內容大綱：\n",
    "1. 毛去化率計算實作\n",
    "2. 淨去化率計算實作\n",
    "3. 調整去化率計算實作\n",
    "4. 時間對齊邏輯處理\n",
    "5. 去化率合理性驗證\n",
    "6. 異常案例識別與處理"
   ]
  }
 ],
 "metadata": {
  "language_info": {
   "name": "python"
  }
 },
 "nbformat": 4,
 "nbformat_minor": 5
}
